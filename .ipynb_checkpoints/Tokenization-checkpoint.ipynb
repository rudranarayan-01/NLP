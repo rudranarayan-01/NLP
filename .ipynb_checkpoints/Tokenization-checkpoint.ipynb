{
 "cells": [
  {
   "cell_type": "code",
   "execution_count": 1,
   "id": "73d5801c-293e-4e0a-ae18-785babaa75f9",
   "metadata": {},
   "outputs": [
    {
     "name": "stdout",
     "output_type": "stream",
     "text": [
      "Defaulting to user installation because normal site-packages is not writeable\n",
      "Requirement already satisfied: nltk in c:\\programdata\\anaconda3\\lib\\site-packages (3.9.1)\n",
      "Requirement already satisfied: click in c:\\users\\rudranarayan\\appdata\\roaming\\python\\python312\\site-packages (from nltk) (8.1.8)\n",
      "Requirement already satisfied: joblib in c:\\users\\rudranarayan\\appdata\\roaming\\python\\python312\\site-packages (from nltk) (1.4.2)\n",
      "Requirement already satisfied: regex>=2021.8.3 in c:\\programdata\\anaconda3\\lib\\site-packages (from nltk) (2024.9.11)\n",
      "Requirement already satisfied: tqdm in c:\\users\\rudranarayan\\appdata\\roaming\\python\\python312\\site-packages (from nltk) (4.67.1)\n",
      "Requirement already satisfied: colorama in c:\\users\\rudranarayan\\appdata\\roaming\\python\\python312\\site-packages (from click->nltk) (0.4.6)\n"
     ]
    }
   ],
   "source": [
    "!pip install nltk"
   ]
  },
  {
   "cell_type": "code",
   "execution_count": 13,
   "id": "47563931-7615-4892-bada-338044333e2b",
   "metadata": {},
   "outputs": [
    {
     "name": "stderr",
     "output_type": "stream",
     "text": [
      "[nltk_data] Downloading package punkt_tab to\n",
      "[nltk_data]     C:\\Users\\RUDRANARAYAN\\AppData\\Roaming\\nltk_data...\n",
      "[nltk_data]   Unzipping tokenizers\\punkt_tab.zip.\n"
     ]
    },
    {
     "data": {
      "text/plain": [
       "True"
      ]
     },
     "execution_count": 13,
     "metadata": {},
     "output_type": "execute_result"
    }
   ],
   "source": [
    "import nltk\n",
    "nltk.download('punkt_tab')"
   ]
  },
  {
   "cell_type": "code",
   "execution_count": 14,
   "id": "be8e5665-d7e0-4162-a70f-2b90268799cf",
   "metadata": {},
   "outputs": [],
   "source": [
    "corpus = \"\"\"Hello welcome to NLP tutorials.\n",
    "Please do watch the full couse to became an expert in NLP.\"\"\""
   ]
  },
  {
   "cell_type": "code",
   "execution_count": 15,
   "id": "862685c0-7310-41ab-a3eb-f680d0aeca7a",
   "metadata": {},
   "outputs": [
    {
     "name": "stdout",
     "output_type": "stream",
     "text": [
      "Hello welcome to NLP tutorials.\n",
      "Please do watch the full couse to became an expert in NLP.\n"
     ]
    }
   ],
   "source": [
    "print(corpus)"
   ]
  },
  {
   "cell_type": "code",
   "execution_count": 16,
   "id": "0b08d18c-5751-4827-a6b1-1b89c162f4b8",
   "metadata": {},
   "outputs": [],
   "source": [
    "## Tokenization\n",
    "# Sentence -> Paragraph\n",
    "from nltk.tokenize import sent_tokenize"
   ]
  },
  {
   "cell_type": "code",
   "execution_count": 18,
   "id": "0950eac0-7cc8-4f41-a37f-be51ac5d64eb",
   "metadata": {},
   "outputs": [],
   "source": [
    "doccument = sent_tokenize(corpus)"
   ]
  },
  {
   "cell_type": "code",
   "execution_count": 19,
   "id": "da7a69c6-6308-41cd-b61b-2e163833056d",
   "metadata": {},
   "outputs": [
    {
     "name": "stdout",
     "output_type": "stream",
     "text": [
      "['Hello welcome to NLP tutorials.', 'Please do watch the full couse to became an expert in NLP.']\n"
     ]
    }
   ],
   "source": [
    "print(doccument)"
   ]
  },
  {
   "cell_type": "code",
   "execution_count": 20,
   "id": "8febbdab-b143-4b89-8757-2c1e924f64c0",
   "metadata": {},
   "outputs": [
    {
     "data": {
      "text/plain": [
       "list"
      ]
     },
     "execution_count": 20,
     "metadata": {},
     "output_type": "execute_result"
    }
   ],
   "source": [
    "type(doccument)"
   ]
  },
  {
   "cell_type": "code",
   "execution_count": 21,
   "id": "54877b08-74e0-4c10-869d-43515be51755",
   "metadata": {},
   "outputs": [
    {
     "name": "stdout",
     "output_type": "stream",
     "text": [
      "Hello welcome to NLP tutorials.\n",
      "Please do watch the full couse to became an expert in NLP.\n"
     ]
    }
   ],
   "source": [
    "for sentence in doccument:\n",
    "    print(sentence)"
   ]
  },
  {
   "cell_type": "markdown",
   "id": "d9bf6a02-6ea4-4458-95ca-bcb67b5e8de6",
   "metadata": {},
   "source": [
    "# Tokenization \n",
    "## Paragraph -> Words\n",
    "## sentence -> words"
   ]
  },
  {
   "cell_type": "code",
   "execution_count": 22,
   "id": "6ea1e329-ecd6-491c-83be-0ce03ece8f49",
   "metadata": {},
   "outputs": [],
   "source": [
    "from nltk.tokenize import word_tokenize"
   ]
  },
  {
   "cell_type": "code",
   "execution_count": 23,
   "id": "e4779669-e8e8-4af7-915a-0ece3730d28a",
   "metadata": {},
   "outputs": [
    {
     "data": {
      "text/plain": [
       "['Hello',\n",
       " 'welcome',\n",
       " 'to',\n",
       " 'NLP',\n",
       " 'tutorials',\n",
       " '.',\n",
       " 'Please',\n",
       " 'do',\n",
       " 'watch',\n",
       " 'the',\n",
       " 'full',\n",
       " 'couse',\n",
       " 'to',\n",
       " 'became',\n",
       " 'an',\n",
       " 'expert',\n",
       " 'in',\n",
       " 'NLP',\n",
       " '.']"
      ]
     },
     "execution_count": 23,
     "metadata": {},
     "output_type": "execute_result"
    }
   ],
   "source": [
    "word_tokenize(corpus)"
   ]
  },
  {
   "cell_type": "markdown",
   "id": "a47c74b1-4aba-49b7-8aa2-7e4fcbb593e5",
   "metadata": {},
   "source": [
    "## Here we see every single word is separated including comma and full stop"
   ]
  },
  {
   "cell_type": "code",
   "execution_count": 24,
   "id": "dcc007b9-c9ea-4301-974e-5c2f8f1f00b7",
   "metadata": {},
   "outputs": [
    {
     "name": "stdout",
     "output_type": "stream",
     "text": [
      "['Hello', 'welcome', 'to', 'NLP', 'tutorials', '.']\n",
      "['Please', 'do', 'watch', 'the', 'full', 'couse', 'to', 'became', 'an', 'expert', 'in', 'NLP', '.']\n"
     ]
    }
   ],
   "source": [
    "for sentence in doccument:\n",
    "    print(word_tokenize(sentence))"
   ]
  },
  {
   "cell_type": "markdown",
   "id": "422441ae-e0a6-4019-a451-dcec12fc2d0b",
   "metadata": {},
   "source": [
    "# puncttokenize"
   ]
  },
  {
   "cell_type": "code",
   "execution_count": 25,
   "id": "ee77b90c-2e7d-433d-b057-0e29ad8b6c94",
   "metadata": {},
   "outputs": [],
   "source": [
    "from nltk.tokenize import wordpunct_tokenize"
   ]
  },
  {
   "cell_type": "code",
   "execution_count": 26,
   "id": "4697f6fd-1198-4c1c-8ea8-f6dd35bd0643",
   "metadata": {},
   "outputs": [
    {
     "data": {
      "text/plain": [
       "['Hello',\n",
       " 'welcome',\n",
       " 'to',\n",
       " 'NLP',\n",
       " 'tutorials',\n",
       " '.',\n",
       " 'Please',\n",
       " 'do',\n",
       " 'watch',\n",
       " 'the',\n",
       " 'full',\n",
       " 'couse',\n",
       " 'to',\n",
       " 'became',\n",
       " 'an',\n",
       " 'expert',\n",
       " 'in',\n",
       " 'NLP',\n",
       " '.']"
      ]
     },
     "execution_count": 26,
     "metadata": {},
     "output_type": "execute_result"
    }
   ],
   "source": [
    "wordpunct_tokenize(corpus)"
   ]
  },
  {
   "cell_type": "markdown",
   "id": "648b6c29-da31-4e68-82b0-3c89af55e134",
   "metadata": {},
   "source": [
    "## It simply separates punctuanions"
   ]
  },
  {
   "cell_type": "code",
   "execution_count": 30,
   "id": "e8ceb3e9-88d8-474f-9988-aa96cb629215",
   "metadata": {},
   "outputs": [],
   "source": [
    "from nltk.tokenize import TreebankWordTokenizer\n",
    "# It will not tokenize full stop\n",
    "\n",
    "tokenizer = TreebankWordTokenizer()"
   ]
  },
  {
   "cell_type": "code",
   "execution_count": 31,
   "id": "57f259bb-617c-4129-a42d-155556575190",
   "metadata": {},
   "outputs": [
    {
     "data": {
      "text/plain": [
       "['Hello',\n",
       " 'welcome',\n",
       " 'to',\n",
       " 'NLP',\n",
       " 'tutorials.',\n",
       " 'Please',\n",
       " 'do',\n",
       " 'watch',\n",
       " 'the',\n",
       " 'full',\n",
       " 'couse',\n",
       " 'to',\n",
       " 'became',\n",
       " 'an',\n",
       " 'expert',\n",
       " 'in',\n",
       " 'NLP',\n",
       " '.']"
      ]
     },
     "execution_count": 31,
     "metadata": {},
     "output_type": "execute_result"
    }
   ],
   "source": [
    "tokenizer.tokenize(corpus)"
   ]
  },
  {
   "cell_type": "code",
   "execution_count": null,
   "id": "c99f72d6-d78b-4b8a-a99c-6e86f194d10a",
   "metadata": {},
   "outputs": [],
   "source": []
  }
 ],
 "metadata": {
  "kernelspec": {
   "display_name": "Python 3 (ipykernel)",
   "language": "python",
   "name": "python3"
  },
  "language_info": {
   "codemirror_mode": {
    "name": "ipython",
    "version": 3
   },
   "file_extension": ".py",
   "mimetype": "text/x-python",
   "name": "python",
   "nbconvert_exporter": "python",
   "pygments_lexer": "ipython3",
   "version": "3.12.7"
  }
 },
 "nbformat": 4,
 "nbformat_minor": 5
}
