{
 "cells": [
  {
   "cell_type": "code",
   "execution_count": 1,
   "id": "21a4d989-3457-44ac-98f5-42518ddd2800",
   "metadata": {},
   "outputs": [
    {
     "data": {
      "text/plain": [
       "'\\nPerson eg: Krish Naik\\nPlace or Location: Bhubaneswar\\nDate:\\nTIme: \\nMoney: \\nOrg :\\npercent :\\n'"
      ]
     },
     "execution_count": 1,
     "metadata": {},
     "output_type": "execute_result"
    }
   ],
   "source": [
    "\n",
    "\"\"\"\n",
    "Person eg: Krish Naik\n",
    "Place or Location: Bhubaneswar\n",
    "Date:\n",
    "TIme: \n",
    "Money: \n",
    "Org :\n",
    "percent :\n",
    "\"\"\"\n"
   ]
  },
  {
   "cell_type": "code",
   "execution_count": 4,
   "id": "b94c5d4d-2587-432d-8104-51c81c2ed15c",
   "metadata": {},
   "outputs": [],
   "source": [
    "sentences = \"The show features exhibitors showcasing tractors, combines, arable and grassland machinery, and new technology. \""
   ]
  },
  {
   "cell_type": "code",
   "execution_count": 14,
   "id": "57a968b5-fbd8-4abb-820e-ad0096725e7a",
   "metadata": {},
   "outputs": [
    {
     "name": "stderr",
     "output_type": "stream",
     "text": [
      "[nltk_data] Downloading package maxent_ne_chunker to\n",
      "[nltk_data]     C:\\Users\\RUDRANARAYAN\\AppData\\Roaming\\nltk_data...\n",
      "[nltk_data]   Package maxent_ne_chunker is already up-to-date!\n",
      "[nltk_data] Downloading package words to\n",
      "[nltk_data]     C:\\Users\\RUDRANARAYAN\\AppData\\Roaming\\nltk_data...\n",
      "[nltk_data]   Package words is already up-to-date!\n",
      "[nltk_data] Downloading package maxent_ne_chunker_tab to\n",
      "[nltk_data]     C:\\Users\\RUDRANARAYAN\\AppData\\Roaming\\nltk_data...\n",
      "[nltk_data]   Unzipping chunkers\\maxent_ne_chunker_tab.zip.\n"
     ]
    }
   ],
   "source": [
    "import nltk\n",
    "nltk.download(\"maxent_ne_chunker\")\n",
    "nltk.download(\"words\")\n",
    "nltk.download('maxent_ne_chunker_tab')\n",
    "words = nltk.word_tokenize(sentences)"
   ]
  },
  {
   "cell_type": "code",
   "execution_count": 7,
   "id": "590ccec9-3854-4bfa-a5c2-963887feb3df",
   "metadata": {},
   "outputs": [],
   "source": [
    "tags = nltk.pos_tag(words)"
   ]
  },
  {
   "cell_type": "markdown",
   "id": "8985cc1a-7b11-47cc-bcbe-ca31e59392fd",
   "metadata": {},
   "source": [
    "# Name entity"
   ]
  },
  {
   "cell_type": "code",
   "execution_count": 17,
   "id": "c8c5ee5c-89a3-4938-96f4-fcdd376246b0",
   "metadata": {},
   "outputs": [],
   "source": [
    "nltk.ne_chunk(tags).draw()"
   ]
  },
  {
   "cell_type": "code",
   "execution_count": null,
   "id": "aa0effa4-39b2-41e5-b3c0-d1939cecacaf",
   "metadata": {},
   "outputs": [],
   "source": []
  }
 ],
 "metadata": {
  "kernelspec": {
   "display_name": "Python 3 (ipykernel)",
   "language": "python",
   "name": "python3"
  },
  "language_info": {
   "codemirror_mode": {
    "name": "ipython",
    "version": 3
   },
   "file_extension": ".py",
   "mimetype": "text/x-python",
   "name": "python",
   "nbconvert_exporter": "python",
   "pygments_lexer": "ipython3",
   "version": "3.12.7"
  }
 },
 "nbformat": 4,
 "nbformat_minor": 5
}
