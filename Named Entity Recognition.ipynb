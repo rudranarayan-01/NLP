{
 "cells": [
  {
   "cell_type": "code",
   "execution_count": null,
   "id": "21a4d989-3457-44ac-98f5-42518ddd2800",
   "metadata": {},
   "outputs": [],
   "source": [
    "sentences = \"The show features exhibitors showcasing tractors, combines, arable and grassland machinery, and new technology. \"\n",
    "\n",
    "\"\"\"\n"
   ]
  }
 ],
 "metadata": {
  "kernelspec": {
   "display_name": "Python 3 (ipykernel)",
   "language": "python",
   "name": "python3"
  },
  "language_info": {
   "codemirror_mode": {
    "name": "ipython",
    "version": 3
   },
   "file_extension": ".py",
   "mimetype": "text/x-python",
   "name": "python",
   "nbconvert_exporter": "python",
   "pygments_lexer": "ipython3",
   "version": "3.12.7"
  }
 },
 "nbformat": 4,
 "nbformat_minor": 5
}
